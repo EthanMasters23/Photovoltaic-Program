{
 "cells": [
  {
   "cell_type": "code",
   "execution_count": 1,
   "id": "09d000aa-76a1-40e1-a4de-4ad0ab9f1be5",
   "metadata": {},
   "outputs": [
    {
     "data": {
      "text/plain": [
       "'\\nLast Updates: May 30th 2024\\n\\nDescription: Notebook used for visualizing graphs and different data\\nframes.\\n\\nJupyter Notebook Version: 7.0.8\\n'"
      ]
     },
     "execution_count": 1,
     "metadata": {},
     "output_type": "execute_result"
    }
   ],
   "source": [
    "# Data Visualization Script #\n",
    "\n",
    "'''\n",
    "Last Updates: May 30th 2024\n",
    "\n",
    "Description: Notebook used for visualizing graphs and different data\n",
    "frames.\n",
    "\n",
    "Jupyter Notebook Version: 7.0.8\n",
    "'''"
   ]
  },
  {
   "cell_type": "markdown",
   "id": "ec0e5ec2",
   "metadata": {},
   "source": [
    "### Imports"
   ]
  },
  {
   "cell_type": "code",
   "execution_count": 2,
   "id": "c6af842f",
   "metadata": {},
   "outputs": [],
   "source": [
    "import os\n",
    "import pandas as pd\n",
    "import plotly.express as px"
   ]
  },
  {
   "cell_type": "markdown",
   "id": "db3a941f",
   "metadata": {},
   "source": [
    "## NaN Value Summary"
   ]
  },
  {
   "cell_type": "markdown",
   "id": "cc00646b",
   "metadata": {},
   "source": [
    "### Total NaN Summary"
   ]
  },
  {
   "cell_type": "code",
   "execution_count": 4,
   "id": "ad021367",
   "metadata": {},
   "outputs": [
    {
     "ename": "NameError",
     "evalue": "name '__file__' is not defined",
     "output_type": "error",
     "traceback": [
      "\u001b[0;31m---------------------------------------------------------------------------\u001b[0m",
      "\u001b[0;31mNameError\u001b[0m                                 Traceback (most recent call last)",
      "Cell \u001b[0;32mIn[4], line 2\u001b[0m\n\u001b[1;32m      1\u001b[0m file_name \u001b[38;5;241m=\u001b[39m \u001b[38;5;124m'\u001b[39m\u001b[38;5;124mIrradiance\u001b[39m\u001b[38;5;124m'\u001b[39m\n\u001b[0;32m----> 2\u001b[0m file_path \u001b[38;5;241m=\u001b[39m os\u001b[38;5;241m.\u001b[39mpath\u001b[38;5;241m.\u001b[39mjoin(os\u001b[38;5;241m.\u001b[39mpath\u001b[38;5;241m.\u001b[39mdirname(\u001b[38;5;18;43m__file__\u001b[39;49m), \u001b[38;5;124m'\u001b[39m\u001b[38;5;124m..\u001b[39m\u001b[38;5;124m'\u001b[39m, \u001b[38;5;124m'\u001b[39m\u001b[38;5;124massets\u001b[39m\u001b[38;5;124m'\u001b[39m, \u001b[38;5;124mf\u001b[39m\u001b[38;5;124m'\u001b[39m\u001b[38;5;132;01m{\u001b[39;00mfile_name\u001b[38;5;132;01m}\u001b[39;00m\u001b[38;5;124m_NaN_All.csv\u001b[39m\u001b[38;5;124m'\u001b[39m)\n\u001b[1;32m      3\u001b[0m summary_data_frame \u001b[38;5;241m=\u001b[39m pd\u001b[38;5;241m.\u001b[39mcsv(file_path, index_col \u001b[38;5;241m=\u001b[39m \u001b[38;5;241m0\u001b[39m)\n\u001b[1;32m      4\u001b[0m summary_data_frame\u001b[38;5;241m.\u001b[39mdescribe()\n",
      "\u001b[0;31mNameError\u001b[0m: name '__file__' is not defined"
     ]
    }
   ],
   "source": [
    "file_name = 'Irradiance'\n",
    "file_path = os.path.join(os.path.dirname(__file__), '..', 'assets', f'{file_name}_NaN_All.csv')\n",
    "summary_data_frame = pd.csv(file_path, index_col = 0)\n",
    "summary_data_frame.describe()"
   ]
  },
  {
   "cell_type": "code",
   "execution_count": null,
   "id": "a6acdce7",
   "metadata": {},
   "outputs": [],
   "source": []
  }
 ],
 "metadata": {
  "kernelspec": {
   "display_name": "Python 3 (ipykernel)",
   "language": "python",
   "name": "python3"
  },
  "language_info": {
   "codemirror_mode": {
    "name": "ipython",
    "version": 3
   },
   "file_extension": ".py",
   "mimetype": "text/x-python",
   "name": "python",
   "nbconvert_exporter": "python",
   "pygments_lexer": "ipython3",
   "version": "3.10.11"
  }
 },
 "nbformat": 4,
 "nbformat_minor": 5
}
