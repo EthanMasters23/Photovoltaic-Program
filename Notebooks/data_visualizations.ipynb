{
 "cells": [
  {
   "cell_type": "code",
   "execution_count": null,
   "id": "09d000aa-76a1-40e1-a4de-4ad0ab9f1be5",
   "metadata": {},
   "outputs": [],
   "source": [
    "# Data Visualization Script #\n",
    "\n",
    "'''\n",
    "Last Updates: May 30th 2024\n",
    "\n",
    "Description: Notebook used for visualizing graphs and different data\n",
    "frames.\n",
    "\n",
    "Jupyter Notebook Version: 7.0.8\n",
    "'''"
   ]
  }
 ],
 "metadata": {
  "kernelspec": {
   "display_name": "Python 3 (ipykernel)",
   "language": "python",
   "name": "python3"
  },
  "language_info": {
   "codemirror_mode": {
    "name": "ipython",
    "version": 3
   },
   "file_extension": ".py",
   "mimetype": "text/x-python",
   "name": "python",
   "nbconvert_exporter": "python",
   "pygments_lexer": "ipython3",
   "version": "3.9.13"
  }
 },
 "nbformat": 4,
 "nbformat_minor": 5
}
